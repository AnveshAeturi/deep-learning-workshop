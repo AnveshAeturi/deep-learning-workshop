{
 "cells": [
  {
   "cell_type": "code",
   "execution_count": null,
   "metadata": {
    "colab": {},
    "colab_type": "code",
    "id": "i7OBq35foVmZ"
   },
   "outputs": [],
   "source": [
    "# Perhaps : Just use the Kaggle pre-done one from : https://www.kaggle.com/utathya/imdb-review-dataset\n",
    "# OR : https://www.kaggle.com/c/sentiment-analysis-on-imdb-movie-reviews/data  \n",
    "#! wget https://www.kaggle.com/c/6337/download/train_data.csv\n",
    "#! ls -l *.csv\n",
    "#! more train_data.csv\n",
    "\n",
    "# BUT that needs a LOGIN"
   ]
  },
  {
   "cell_type": "code",
   "execution_count": null,
   "metadata": {
    "colab": {},
    "colab_type": "code",
    "id": "tjKGeYockRoh"
   },
   "outputs": [],
   "source": [
    "\n",
    "# OR : \n",
    "\n",
    "#if not os.path.isfile('imdb_tr.csv'):\n",
    "#  ! wget https://github.com/SrinidhiRaghavan/AI-Sentiment-Analysis-on-IMDB-Dataset/raw/master/imdb_tr.csv\n",
    "#  ! ls -l *.csv\n",
    "#! head imdb_tr.csv\n",
    "\n",
    "# But this has stop-words removed..."
   ]
  },
  {
   "cell_type": "code",
   "execution_count": null,
   "metadata": {
    "colab": {},
    "colab_type": "code",
    "id": "SpYsa-K7geKi"
   },
   "outputs": [],
   "source": [
    "import os"
   ]
  },
  {
   "cell_type": "code",
   "execution_count": null,
   "metadata": {
    "colab": {
     "base_uri": "https://localhost:8080/",
     "height": 448
    },
    "colab_type": "code",
    "id": "J_kBE3engOGU",
    "outputId": "685b4ba1-2bd9-4255-dc5b-b108c546e5a8"
   },
   "outputs": [],
   "source": [
    "# http://ai.stanford.edu/~amaas/data/sentiment/\n",
    "if not os.path.isfile('aclImdb_v1.tar.gz'):\n",
    "  ! wget http://ai.stanford.edu/~amaas/data/sentiment/aclImdb_v1.tar.gz\n",
    "  ! ls -l \n",
    "if not os.path.isfile('aclImdb/README'):\n",
    "  ! tar -xzf aclImdb_v1.tar.gz\n",
    "  ! ls -l aclImdb\n",
    "if os.path.isfile('aclImdb/README'):\n",
    "  print(\"We have the IMDB data!\")\n",
    "  ! head aclImdb/imdb.vocab"
   ]
  },
  {
   "cell_type": "code",
   "execution_count": null,
   "metadata": {
    "colab": {
     "base_uri": "https://localhost:8080/",
     "height": 240
    },
    "colab_type": "code",
    "id": "c8p6TTDvgS1g",
    "outputId": "ef9cf76d-a851-48ed-e54a-665875933186"
   },
   "outputs": [],
   "source": [
    "! ls -l aclImdb/train/neg | head"
   ]
  },
  {
   "cell_type": "code",
   "execution_count": null,
   "metadata": {
    "colab": {
     "base_uri": "https://localhost:8080/",
     "height": 446
    },
    "colab_type": "code",
    "id": "4r8R5-IOg-ec",
    "outputId": "c0e3c455-aa44-4213-b285-420f71cbc847"
   },
   "outputs": [],
   "source": [
    "# Ok, so let's make a line-based text file with the right data in it...\n",
    "\n",
    "def get_imdb_marked(sent):  # sent='pos' or 'net'\n",
    "  with open('all_'+sent+'.txt', 'wt') as fout:\n",
    "    for fname in os.listdir('aclImdb/train/'+sent):\n",
    "      #print(f)\n",
    "      txt = open('aclImdb/train/'+sent+'/'+fname, 'rt').read() # Slurps whole file\n",
    "      \n",
    "      txt_clean = txt.replace('<br />', ' ')\n",
    "      txt_clean = (txt_clean.replace(\"`\", \"'\")\n",
    "                            .replace(\"'\", \" '\") .replace('\"', ' \" ')\n",
    "                            .replace(',', ' , ').replace('.', ' . ')\n",
    "                            .replace(':', ' : ').replace('!', ' ! ')\n",
    "                            .replace('/', ' / ').replace('(', ' ( ').replace(')', ' ) ')\n",
    "                  )\n",
    "      txt_clean = txt_clean.replace(\"--\", \" - \").replace(\"  \", \" \").replace(\"  \", \" \")\n",
    "      \n",
    "      fout.write(\"%d|%s\\n\" % ((1 if sent=='pos' else 0), txt_clean, ))\n",
    "      #break\n",
    "\n",
    "get_imdb_marked('pos')\n",
    "get_imdb_marked('neg')\n",
    "! head all_pos.txt\n",
    "! head all_neg.txt"
   ]
  },
  {
   "cell_type": "code",
   "execution_count": null,
   "metadata": {
    "colab": {
     "base_uri": "https://localhost:8080/",
     "height": 283
    },
    "colab_type": "code",
    "id": "t-Kxa0QEk0z5",
    "outputId": "a224ac50-c9e4-4d1c-e41b-4323deeb30f7"
   },
   "outputs": [],
   "source": [
    "# Unix magic\n",
    "! cat all_pos.txt all_neg.txt | shuf > IMDB_all_reviews.txt\n",
    "! head IMDB_all_reviews.txt"
   ]
  },
  {
   "cell_type": "code",
   "execution_count": null,
   "metadata": {
    "colab": {},
    "colab_type": "code",
    "id": "98FFaizLjTJv"
   },
   "outputs": [],
   "source": []
  },
  {
   "cell_type": "code",
   "execution_count": null,
   "metadata": {
    "colab": {},
    "colab_type": "code",
    "id": "lW-gNOworr-x"
   },
   "outputs": [],
   "source": [
    "# If using colab, download the data to your local machine\n",
    "from google.colab import files\n",
    "files.download('IMDB_all_reviews.txt')   # Better be using Chrome..."
   ]
  },
  {
   "cell_type": "code",
   "execution_count": null,
   "metadata": {
    "colab": {},
    "colab_type": "code",
    "id": "TQN29SHUrwu6"
   },
   "outputs": [],
   "source": []
  }
 ],
 "metadata": {
  "accelerator": "GPU",
  "colab": {
   "collapsed_sections": [],
   "name": "IMBD-from-text",
   "provenance": [],
   "version": "0.3.2"
  },
  "kernelspec": {
   "display_name": "Python 3",
   "language": "python",
   "name": "python3"
  },
  "language_info": {
   "codemirror_mode": {
    "name": "ipython",
    "version": 3
   },
   "file_extension": ".py",
   "mimetype": "text/x-python",
   "name": "python",
   "nbconvert_exporter": "python",
   "pygments_lexer": "ipython3",
   "version": "3.6.5"
  }
 },
 "nbformat": 4,
 "nbformat_minor": 1
}